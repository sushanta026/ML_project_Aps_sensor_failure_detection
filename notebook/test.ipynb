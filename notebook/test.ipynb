{
 "cells": [
  {
   "cell_type": "code",
   "execution_count": 7,
   "metadata": {},
   "outputs": [
    {
     "name": "stdout",
     "output_type": "stream",
     "text": [
      "sushanta 32\n"
     ]
    }
   ],
   "source": [
    "class employ:\n",
    "    def __init__(self,name,age):\n",
    "        self.name = name\n",
    "        self.age = age\n",
    "emp = employ(name=\"sushanta\", age=32)\n",
    "print(emp.name, emp.age)\n"
   ]
  },
  {
   "cell_type": "code",
   "execution_count": 2,
   "metadata": {},
   "outputs": [],
   "source": [
    "#decorator\n",
    "from dataclasses import dataclass"
   ]
  },
  {
   "cell_type": "code",
   "execution_count": 5,
   "metadata": {},
   "outputs": [
    {
     "name": "stdout",
     "output_type": "stream",
     "text": [
      "susant 32\n"
     ]
    }
   ],
   "source": [
    "@dataclass        #decorator  \n",
    "class employ1:\n",
    "    name:str\n",
    "    age:int\n",
    "emp = employ1(name=\"susant\",age=32)\n",
    "print(emp.name, emp.age)\n"
   ]
  },
  {
   "cell_type": "code",
   "execution_count": 6,
   "metadata": {},
   "outputs": [],
   "source": [
    "# @dataclass decorator implicitly creates the __init__ method like this\n",
    "# def __init__(name: str, age: int)\n",
    "# we use decorator when we only assign variable "
   ]
  },
  {
   "cell_type": "code",
   "execution_count": null,
   "metadata": {},
   "outputs": [],
   "source": []
  }
 ],
 "metadata": {
  "kernelspec": {
   "display_name": "Python 3.10.7 64-bit",
   "language": "python",
   "name": "python3"
  },
  "language_info": {
   "codemirror_mode": {
    "name": "ipython",
    "version": 3
   },
   "file_extension": ".py",
   "mimetype": "text/x-python",
   "name": "python",
   "nbconvert_exporter": "python",
   "pygments_lexer": "ipython3",
   "version": "3.10.7"
  },
  "orig_nbformat": 4,
  "vscode": {
   "interpreter": {
    "hash": "ac730e228007d30ebfc3185c672c93aa931b082abda669bf0c0f1799b3aabd0b"
   }
  }
 },
 "nbformat": 4,
 "nbformat_minor": 2
}
